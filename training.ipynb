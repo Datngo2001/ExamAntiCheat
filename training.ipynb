{
 "cells": [
  {
   "cell_type": "code",
   "execution_count": 2,
   "metadata": {},
   "outputs": [],
   "source": [
    "from sklearn.svm import SVC\n",
    "from sklearn.linear_model import LogisticRegression as lr\n",
    "from sklearn.neighbors import KNeighborsClassifier\n",
    "from sklearn.model_selection import GridSearchCV\n",
    "from sklearn.metrics import roc_auc_score\n",
    "from sklearn.metrics import roc_curve\n",
    "import matplotlib.pyplot as plt\n",
    "import numpy as np\n",
    "import joblib\n",
    "\n",
    "from trainning import store_model\n",
    "\n",
    "class Classifiers(object):\n",
    "\n",
    "    def __init__(self,train_data,train_labels,hyperTune=True):\n",
    "        self.train_data=train_data\n",
    "        self.train_labels=train_labels\n",
    "        self.construct_all_models(hyperTune)\n",
    "\n",
    "    def store_model(self, model, model_name = \"\"):\n",
    "        # NOTE: sklearn.joblib faster than pickle of Python\n",
    "        # INFO: can store only ONE object in a file\n",
    "        if model_name == \"\": \n",
    "            model_name = type(model).__name__\n",
    "        joblib.dump(model,'models/' + model_name + '_model.pkl')\n",
    "    \n",
    "    def construct_all_models(self,hyperTune):\n",
    "        if hyperTune:\n",
    "            #3 models KNN SCM and LR\n",
    "            self.models={'SVM':[SVC(kernel='linear',probability=True),dict(C=np.arange(0.01, 2.01, 0.2))],\\\n",
    "                         'LogisticRegression':[lr(),dict(C=np.arange(0.1,3,0.1))],\\\n",
    "                         'KNN':[KNeighborsClassifier(),dict(n_neighbors=range(1, 100))],}\n",
    "            for name,candidate_hyperParam in self.models.items():\n",
    "                #update each classifier after training and tuning\n",
    "                self.models[name] = self.train_with_hyperParamTuning(candidate_hyperParam[0],name,candidate_hyperParam[1])\n",
    "            print ('\\nTraining process finished\\n\\n\\n')\n",
    "\n",
    "    def train_with_hyperParamTuning(self,model,name,param_grid):\n",
    "        #grid search method for hyper-parameter tuning\n",
    "        grid = GridSearchCV(model, param_grid, cv=10, scoring='accuracy', n_jobs=-1)\n",
    "        grid.fit(self.train_data, self.train_labels)\n",
    "        joblib.dump(grid,'saved_objects/' + name  + '_gridsearch.pkl')\n",
    "        self.store_model(grid, name)\n",
    "        \n",
    "        print(\n",
    "            '\\nThe best hyper-parameter for -- {} is {}, the corresponding mean accuracy through 10 Fold test is {} \\n'\\\n",
    "            .format(name, grid.best_params_, grid.best_score_))\n",
    "\n",
    "        model = grid.best_estimator_\n",
    "        train_pred = model.predict(self.train_data)\n",
    "        print('{} train accuracy = {}\\n'.format(name,(train_pred == self.train_labels).mean()))\n",
    "        return model\n",
    "\n",
    "    def prediction_metrics(self,test_data,test_labels,name):\n",
    "\n",
    "        #accuracy\n",
    "        print('{} test accuracy = {}\\n'.format(name,(self.models[name].predict(test_data) == test_labels).mean()))\n",
    "\n",
    "        #AUC of ROC\n",
    "        prob = self.models[name].predict_proba(test_data)\n",
    "        auc=roc_auc_score(test_labels,prob[:,1])\n",
    "        print('Classifier {} area under curve of ROC is {}\\n'.format(name,auc))\n",
    "\n",
    "        #ROC\n",
    "        fpr, tpr, thresholds = roc_curve(test_labels, prob[:,1], pos_label=1)\n",
    "        self.roc_plot(fpr,tpr,name,auc)\n",
    "\n",
    "    def roc_plot(self,fpr,tpr,name,auc):\n",
    "        plt.figure(figsize=(20,5))\n",
    "        plt.plot(fpr,tpr)\n",
    "        plt.ylim([0.0,1.0])\n",
    "        plt.ylim([0.0, 1.0])\n",
    "        plt.title('ROC of {}     AUC: {}\\nPlease close it to continue'.format(name,auc))\n",
    "        plt.xlabel('False Positive Rate')\n",
    "        plt.ylabel('True Positive Rate')\n",
    "        plt.grid(True)\n",
    "        plt.show()\n",
    "\n"
   ]
  },
  {
   "cell_type": "code",
   "execution_count": 3,
   "metadata": {},
   "outputs": [],
   "source": [
    "import pandas as pd\n",
    "raw_data = pd.read_csv('trainning_data.csv')"
   ]
  },
  {
   "cell_type": "code",
   "execution_count": 4,
   "metadata": {},
   "outputs": [],
   "source": [
    "from sklearn.model_selection import train_test_split\n",
    "train_set, test_set = train_test_split(raw_data, test_size=0.2, random_state=42) # set random_state to get the same training set all the time, \n",
    "\n",
    "train_set_labels = train_set[\"label\"].copy()\n",
    "train_set = train_set.drop(columns = \"label\") \n",
    "test_set_labels = test_set[\"label\"].copy()\n",
    "test_set = test_set.drop(columns = \"label\") "
   ]
  },
  {
   "cell_type": "code",
   "execution_count": 5,
   "metadata": {},
   "outputs": [
    {
     "name": "stdout",
     "output_type": "stream",
     "text": [
      "\n",
      "The best hyper-parameter for -- SVM is {'C': 0.01}, the corresponding mean accuracy through 10 Fold test is 0.9 \n",
      "\n",
      "SVM train accuracy = 1.0\n",
      "\n"
     ]
    },
    {
     "name": "stderr",
     "output_type": "stream",
     "text": [
      "c:\\Python310\\lib\\site-packages\\sklearn\\linear_model\\_logistic.py:814: ConvergenceWarning: lbfgs failed to converge (status=1):\n",
      "STOP: TOTAL NO. of ITERATIONS REACHED LIMIT.\n",
      "\n",
      "Increase the number of iterations (max_iter) or scale the data as shown in:\n",
      "    https://scikit-learn.org/stable/modules/preprocessing.html\n",
      "Please also refer to the documentation for alternative solver options:\n",
      "    https://scikit-learn.org/stable/modules/linear_model.html#logistic-regression\n",
      "  n_iter_i = _check_optimize_result(\n"
     ]
    },
    {
     "name": "stdout",
     "output_type": "stream",
     "text": [
      "\n",
      "The best hyper-parameter for -- LogisticRegression is {'C': 0.30000000000000004}, the corresponding mean accuracy through 10 Fold test is 0.9 \n",
      "\n",
      "LogisticRegression train accuracy = 1.0\n",
      "\n",
      "\n",
      "The best hyper-parameter for -- KNN is {'n_neighbors': 1}, the corresponding mean accuracy through 10 Fold test is 0.9 \n",
      "\n",
      "KNN train accuracy = 1.0\n",
      "\n",
      "\n",
      "Training process finished\n",
      "\n",
      "\n",
      "\n"
     ]
    },
    {
     "name": "stderr",
     "output_type": "stream",
     "text": [
      "c:\\Python310\\lib\\site-packages\\sklearn\\model_selection\\_search.py:969: UserWarning: One or more of the test scores are non-finite: [0.9        0.9        0.9        0.9        0.81666667 0.81666667\n",
      " 0.84166667 0.84166667 0.81666667 0.84166667 0.84166667 0.84166667\n",
      " 0.84166667 0.84166667 0.84166667 0.84166667 0.84166667 0.84166667\n",
      " 0.84166667 0.86666667 0.84166667 0.81666667 0.84166667 0.79166667\n",
      " 0.79166667 0.79166667 0.81666667 0.76666667 0.79166667 0.54166667\n",
      " 0.54166667 0.56666667 0.56666667 0.56666667 0.56666667        nan\n",
      "        nan        nan        nan        nan        nan        nan\n",
      "        nan        nan        nan        nan        nan        nan\n",
      "        nan        nan        nan        nan        nan        nan\n",
      "        nan        nan        nan        nan        nan        nan\n",
      "        nan        nan        nan        nan        nan        nan\n",
      "        nan        nan        nan        nan        nan        nan\n",
      "        nan        nan        nan        nan        nan        nan\n",
      "        nan        nan        nan        nan        nan        nan\n",
      "        nan        nan        nan        nan        nan        nan\n",
      "        nan        nan        nan        nan        nan        nan\n",
      "        nan        nan        nan]\n",
      "  warnings.warn(\n"
     ]
    }
   ],
   "source": [
    "classifiers = Classifiers(train_set,train_set_labels)"
   ]
  },
  {
   "cell_type": "code",
   "execution_count": 63,
   "metadata": {},
   "outputs": [
    {
     "name": "stdout",
     "output_type": "stream",
     "text": [
      "KNN test accuracy = 0.8\n",
      "\n",
      "Classifier KNN area under curve of ROC is 0.8571428571428572\n",
      "\n"
     ]
    },
    {
     "name": "stderr",
     "output_type": "stream",
     "text": [
      "c:\\Python310\\lib\\site-packages\\sklearn\\metrics\\_ranking.py:999: UndefinedMetricWarning: No positive samples in y_true, true positive value should be meaningless\n",
      "  warnings.warn(\n"
     ]
    },
    {
     "data": {
      "image/png": "[encoded data removed]",
      "text/plain": [
       "<Figure size 1440x360 with 1 Axes>"
      ]
     },
     "metadata": {
      "needs_background": "light"
     },
     "output_type": "display_data"
    }
   ],
   "source": [
    "classifiers.prediction_metrics(test_set, test_set_labels, 'KNN')"
   ]
  },
  {
   "cell_type": "code",
   "execution_count": 58,
   "metadata": {},
   "outputs": [
    {
     "name": "stdout",
     "output_type": "stream",
     "text": [
      "SVM SVC(C=0.01, kernel='linear', probability=True)\n",
      "LogisticRegression LogisticRegression(C=0.30000000000000004)\n",
      "KNN KNeighborsClassifier(n_neighbors=1)\n"
     ]
    }
   ],
   "source": [
    "for name,model in classifiers.models.items():\n",
    "  print(name, model)"
   ]
  },
  {
   "cell_type": "code",
   "execution_count": 59,
   "metadata": {},
   "outputs": [
    {
     "name": "stdout",
     "output_type": "stream",
     "text": [
      "SVM test accuracy = 0.9\n",
      "\n"
     ]
    }
   ],
   "source": [
    "name = 'SVM'\n",
    "print('{} test accuracy = {}\\n'.format(name,(classifiers.models[name].predict(test_set) == test_set_labels).mean()))\n",
    "prob = classifiers.models[name].predict_proba(test_set)\n"
   ]
  },
  {
   "cell_type": "code",
   "execution_count": 60,
   "metadata": {},
   "outputs": [
    {
     "name": "stdout",
     "output_type": "stream",
     "text": [
      "Classifier SVM area under curve of ROC is 0.8571428571428571\n",
      "\n"
     ]
    },
    {
     "name": "stderr",
     "output_type": "stream",
     "text": [
      "c:\\Python310\\lib\\site-packages\\sklearn\\metrics\\_ranking.py:999: UndefinedMetricWarning: No positive samples in y_true, true positive value should be meaningless\n",
      "  warnings.warn(\n"
     ]
    }
   ],
   "source": [
    "auc = roc_auc_score(test_set_labels, prob[:,1])\n",
    "print('Classifier {} area under curve of ROC is {}\\n'.format(name,auc))\n",
    "\n",
    "fpr, tpr, thresholds = roc_curve(test_set_labels, prob[:,1], pos_label=1)"
   ]
  },
  {
   "cell_type": "code",
   "execution_count": 61,
   "metadata": {},
   "outputs": [],
   "source": [
    "def roc_plot(self,fpr,tpr,name,auc):\n",
    "        plt.figure(figsize=(20,5))\n",
    "        plt.plot(fpr,tpr)\n",
    "        plt.ylim([0.0,1.0])\n",
    "        plt.ylim([0.0, 1.0])\n",
    "        plt.title('ROC of {}     AUC: {}\\nPlease close it to continue'.format(name,auc))\n",
    "        plt.xlabel('False Positive Rate')\n",
    "        plt.ylabel('True Positive Rate')\n",
    "        plt.grid(True)\n",
    "        plt.show()"
   ]
  },
  {
   "cell_type": "code",
   "execution_count": 62,
   "metadata": {},
   "outputs": [
    {
     "data": {
      "image/png": "[encoded data removed]",
      "text/plain": [
       "<Figure size 1440x360 with 1 Axes>"
      ]
     },
     "metadata": {
      "needs_background": "light"
     },
     "output_type": "display_data"
    }
   ],
   "source": [
    "classifiers.roc_plot(fpr, tpr, name, auc)"
   ]
  },
  {
   "cell_type": "code",
   "execution_count": 51,
   "metadata": {},
   "outputs": [
    {
     "name": "stderr",
     "output_type": "stream",
     "text": [
      "c:\\Python310\\lib\\site-packages\\sklearn\\metrics\\_ranking.py:999: UndefinedMetricWarning: No positive samples in y_true, true positive value should be meaningless\n",
      "  warnings.warn(\n"
     ]
    }
   ],
   "source": []
  }
 ],
 "metadata": {
  "interpreter": {
   "hash": "369f2c481f4da34e4445cda3fffd2e751bd1c4d706f27375911949ba6bb62e1c"
  },
  "kernelspec": {
   "display_name": "Python 3.10.1 64-bit",
   "language": "python",
   "name": "python3"
  },
  "language_info": {
   "codemirror_mode": {
    "name": "ipython",
    "version": 3
   },
   "file_extension": ".py",
   "mimetype": "text/x-python",
   "name": "python",
   "nbconvert_exporter": "python",
   "pygments_lexer": "ipython3",
   "version": "3.10.1"
  },
  "orig_nbformat": 4
 },
 "nbformat": 4,
 "nbformat_minor": 2
}
